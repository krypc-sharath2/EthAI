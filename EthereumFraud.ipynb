{
 "cells": [
  {
   "cell_type": "markdown",
   "metadata": {},
   "source": [
    "Here is a description of the rows of the dataset:\n",
    "\n",
    "Index: the index number of a row\n",
    "\n",
    "Address: the address of the ethereum account\n",
    "\n",
    "FLAG: whether the transaction is fraud or not\n",
    "\n",
    "Avg min between sent tnx: Average time between sent transactions for account in minutes\n",
    "\n",
    "Avg_min_between_received_tnx: Average time between received transactions for account in minutes\n",
    "\n",
    "Time_Diff_between_first_and_last(Mins): Time difference between the first and last transaction\n",
    "\n",
    "Sent_tnx: Total number of sent normal transactions\n",
    "\n",
    "Received_tnx: Total number of received normal transactions\n",
    "\n",
    "Number_of_Created_Contracts: Total Number of created contract transactions\n",
    "\n",
    "Unique_Received_From_Addresses: Total Unique addresses from which account received transactions\n",
    "\n",
    "Unique_Sent_To_Addresses20: Total Unique addresses from which account sent transactions\n",
    "\n",
    "Min_Value_Received: Minimum value in Ether ever received\n",
    "\n",
    "Max_Value_Received: Maximum value in Ether ever received\n",
    "\n",
    "Avg_Value_Received5Average value in Ether ever received\n",
    "\n",
    "Min_Val_Sent: Minimum value of Ether ever sent\n",
    "\n",
    "Max_Val_Sent: Maximum value of Ether ever sent\n",
    "\n",
    "Avg_Val_Sent: Average value of Ether ever sent\n",
    "\n",
    "Min_Value_Sent_To_Contract: Minimum value of Ether sent to a contract\n",
    "\n",
    "Max_Value_Sent_To_Contract: Maximum value of Ether sent to a contract\n",
    "\n",
    "Avg_Value_Sent_To_Contract: Average value of Ether sent to contracts\n",
    "\n",
    "Total_Transactions(Including_Tnx_to_Create_Contract): Total number of transactions\n",
    "\n",
    "Total_Ether_Sent:Total Ether sent for account address\n",
    "\n",
    "Total_Ether_Received: Total Ether received for account address\n",
    "\n",
    "Total_Ether_Sent_Contracts: Total Ether sent to Contract addresses\n",
    "\n",
    "Total_Ether_Balance: Total Ether Balance following enacted transactions\n",
    "\n",
    "Total_ERC20_Tnxs: Total number of ERC20 token transfer transactions\n",
    "\n",
    "ERC20_Total_Ether_Received: Total ERC20 token received transactions in Ether\n",
    "\n",
    "ERC20_Total_Ether_Sent: Total ERC20token sent transactions in Ether\n",
    "\n",
    "ERC20_Total_Ether_Sent_Contract: Total ERC20 token transfer to other contracts in Ether\n",
    "\n",
    "ERC20_Uniq_Sent_Addr: Number of ERC20 token transactions sent to Unique account addresses\n",
    "\n",
    "ERC20_Uniq_Rec_Addr: Number of ERC20 token transactions received from Unique addresses\n",
    "\n",
    "ERC20_Uniq_Rec_Contract_Addr: Number of ERC20token transactions received from Unique contract addresses\n",
    "\n",
    "ERC20_Avg_Time_Between_Sent_Tnx: Average time between ERC20 token sent transactions in minutes\n",
    "\n",
    "ERC20_Avg_Time_Between_Rec_Tnx: Average time between ERC20 token received transactions in minutes\n",
    "\n",
    "ERC20_Avg_Time_Between_Contract_Tnx: Average time ERC20 token between sent token transactions\n",
    "\n",
    "ERC20_Min_Val_Rec: Minimum value in Ether received from ERC20 token transactions for account\n",
    "\n",
    "ERC20_Max_Val_Rec: Maximum value in Ether received from ERC20 token transactions for account\n",
    "\n",
    "ERC20_Avg_Val_Rec: Average value in Ether received from ERC20 token transactions for account\n",
    "\n",
    "ERC20_Min_Val_Sent: Minimum value in Ether sent from ERC20 token transactions for account\n",
    "\n",
    "ERC20_Max_Val_Sent: Maximum value in Ether sent from ERC20 token transactions for account\n",
    "\n",
    "ERC20_Avg_Val_Sent: Average value in Ether sent from ERC20 token transactions for account\n",
    "\n",
    "ERC20_Uniq_Sent_Token_Name: Number of Unique ERC20 tokens transferred\n",
    "\n",
    "ERC20_Uniq_Rec_Token_Name: Number of Unique ERC20 tokens received\n",
    "\n",
    "ERC20_Most_Sent_Token_Type: Most sent token for account via ERC20 transaction\n",
    "\n",
    "ERC20_Most_Rec_Token_Type: Most received token for account via ERC20 transactions"
   ]
  },
  {
   "cell_type": "code",
   "execution_count": 11,
   "metadata": {},
   "outputs": [],
   "source": [
    "# libraries\n",
    "import pandas as pd\n",
    "import numpy\n",
    "import pandas as pd\n",
    "import seaborn as sns\n",
    "from matplotlib import pyplot as plt"
   ]
  },
  {
   "cell_type": "code",
   "execution_count": 5,
   "metadata": {},
   "outputs": [],
   "source": [
    "# Load the dataset\n",
    "eth_ds = pd.read_csv('./Dataset/transaction_dataset.csv')"
   ]
  },
  {
   "cell_type": "code",
   "execution_count": 6,
   "metadata": {},
   "outputs": [
    {
     "name": "stdout",
     "output_type": "stream",
     "text": [
      "<class 'pandas.core.frame.DataFrame'>\n",
      "RangeIndex: 9841 entries, 0 to 9840\n",
      "Data columns (total 51 columns):\n",
      " #   Column                                                Non-Null Count  Dtype  \n",
      "---  ------                                                --------------  -----  \n",
      " 0   Unnamed: 0                                            9841 non-null   int64  \n",
      " 1   Index                                                 9841 non-null   int64  \n",
      " 2   Address                                               9841 non-null   object \n",
      " 3   FLAG                                                  9841 non-null   int64  \n",
      " 4   Avg min between sent tnx                              9841 non-null   float64\n",
      " 5   Avg min between received tnx                          9841 non-null   float64\n",
      " 6   Time Diff between first and last (Mins)               9841 non-null   float64\n",
      " 7   Sent tnx                                              9841 non-null   int64  \n",
      " 8   Received Tnx                                          9841 non-null   int64  \n",
      " 9   Number of Created Contracts                           9841 non-null   int64  \n",
      " 10  Unique Received From Addresses                        9841 non-null   int64  \n",
      " 11  Unique Sent To Addresses                              9841 non-null   int64  \n",
      " 12  min value received                                    9841 non-null   float64\n",
      " 13  max value received                                    9841 non-null   float64\n",
      " 14  avg val received                                      9841 non-null   float64\n",
      " 15  min val sent                                          9841 non-null   float64\n",
      " 16  max val sent                                          9841 non-null   float64\n",
      " 17  avg val sent                                          9841 non-null   float64\n",
      " 18  min value sent to contract                            9841 non-null   float64\n",
      " 19  max val sent to contract                              9841 non-null   float64\n",
      " 20  avg value sent to contract                            9841 non-null   float64\n",
      " 21  total transactions (including tnx to create contract  9841 non-null   int64  \n",
      " 22  total Ether sent                                      9841 non-null   float64\n",
      " 23  total ether received                                  9841 non-null   float64\n",
      " 24  total ether sent contracts                            9841 non-null   float64\n",
      " 25  total ether balance                                   9841 non-null   float64\n",
      " 26   Total ERC20 tnxs                                     9012 non-null   float64\n",
      " 27   ERC20 total Ether received                           9012 non-null   float64\n",
      " 28   ERC20 total ether sent                               9012 non-null   float64\n",
      " 29   ERC20 total Ether sent contract                      9012 non-null   float64\n",
      " 30   ERC20 uniq sent addr                                 9012 non-null   float64\n",
      " 31   ERC20 uniq rec addr                                  9012 non-null   float64\n",
      " 32   ERC20 uniq sent addr.1                               9012 non-null   float64\n",
      " 33   ERC20 uniq rec contract addr                         9012 non-null   float64\n",
      " 34   ERC20 avg time between sent tnx                      9012 non-null   float64\n",
      " 35   ERC20 avg time between rec tnx                       9012 non-null   float64\n",
      " 36   ERC20 avg time between rec 2 tnx                     9012 non-null   float64\n",
      " 37   ERC20 avg time between contract tnx                  9012 non-null   float64\n",
      " 38   ERC20 min val rec                                    9012 non-null   float64\n",
      " 39   ERC20 max val rec                                    9012 non-null   float64\n",
      " 40   ERC20 avg val rec                                    9012 non-null   float64\n",
      " 41   ERC20 min val sent                                   9012 non-null   float64\n",
      " 42   ERC20 max val sent                                   9012 non-null   float64\n",
      " 43   ERC20 avg val sent                                   9012 non-null   float64\n",
      " 44   ERC20 min val sent contract                          9012 non-null   float64\n",
      " 45   ERC20 max val sent contract                          9012 non-null   float64\n",
      " 46   ERC20 avg val sent contract                          9012 non-null   float64\n",
      " 47   ERC20 uniq sent token name                           9012 non-null   float64\n",
      " 48   ERC20 uniq rec token name                            9012 non-null   float64\n",
      " 49   ERC20 most sent token type                           7144 non-null   object \n",
      " 50   ERC20_most_rec_token_type                            8970 non-null   object \n",
      "dtypes: float64(39), int64(9), object(3)\n",
      "memory usage: 3.8+ MB\n"
     ]
    }
   ],
   "source": [
    "eth_ds.info()"
   ]
  },
  {
   "cell_type": "markdown",
   "metadata": {},
   "source": [
    "### Feature Analysis\n",
    "<i>From the above columns, we wish to extract and engineer a set of features that will help us classify the transaction as fraudulent or safe.</i>"
   ]
  },
  {
   "cell_type": "markdown",
   "metadata": {},
   "source": [
    "- total value in ETH sent by a wallet\n",
    "- total received value in ETH by a wallet\n",
    "- A number of transactions sent by a wallet\n",
    "- A number of transactions received by a wallet over a time period\n",
    "- average time between transactions performed bysending wallet\n",
    "- average time between transactions to a receiving wallet\n",
    "- standard deviation of time between transactions performed by a sending wallet\n",
    "- standard deviation of transaction time in seconds to receiving wallet - standard deviation of time between transactions to a receiving wallet\n",
    "- average value in ETH sent by a wallet\n",
    "- average value in ETH received by a wallet"
   ]
  },
  {
   "cell_type": "code",
   "execution_count": 8,
   "metadata": {},
   "outputs": [
    {
     "name": "stdout",
     "output_type": "stream",
     "text": [
      " ERC20 avg time between sent tnx\n",
      "[ 0. nan]\n",
      "\n",
      " ERC20 avg time between rec tnx\n",
      "[ 0. nan]\n",
      "\n",
      " ERC20 avg time between rec 2 tnx\n",
      "[ 0. nan]\n",
      "\n",
      " ERC20 avg time between contract tnx\n",
      "[ 0. nan]\n",
      "\n",
      " ERC20 min val sent contract\n",
      "[ 0. nan]\n",
      "\n",
      " ERC20 max val sent contract\n",
      "[ 0. nan]\n",
      "\n",
      " ERC20 avg val sent contract\n",
      "[ 0. nan]\n",
      "\n"
     ]
    }
   ],
   "source": [
    "# List of columns having same data through out the dataset.\n",
    "zero_feature_list = eth_ds.columns[(eth_ds.nunique() == 1)].tolist()\n",
    "for col in zero_feature_list:\n",
    "    print(col)\n",
    "    print(eth_ds[col].unique())\n",
    "    print()"
   ]
  },
  {
   "cell_type": "code",
   "execution_count": 37,
   "metadata": {
    "tags": []
   },
   "outputs": [
    {
     "data": {
      "image/png": "[encoded data removed]",
      "text/plain": [
       "<Figure size 640x480 with 1 Axes>"
      ]
     },
     "metadata": {},
     "output_type": "display_data"
    },
    {
     "name": "stdout",
     "output_type": "stream",
     "text": [
      "Total Records: 9841\n",
      "Target:  FLAG\n",
      "0    0.778579\n",
      "1    0.221421\n",
      "Name: proportion, dtype: float64\n"
     ]
    }
   ],
   "source": [
    "sns.countplot(x=eth_ds.FLAG,hue=eth_ds.FLAG,stat='percent')\n",
    "plt.show()\n",
    "print('Total Records:', eth_ds.FLAG.shape[0])\n",
    "print('Target: ', eth_ds['FLAG'].value_counts(normalize=True))"
   ]
  },
  {
   "cell_type": "markdown",
   "metadata": {},
   "source": [
    "From the above plot, we can observe a major imbalance in the dataset. We can observe that 22% of the total transactions are fraudulent."
   ]
  }
 ],
 "metadata": {
  "kernelspec": {
   "display_name": "Python 3 (ipykernel)",
   "language": "python",
   "name": "python3"
  },
  "language_info": {
   "codemirror_mode": {
    "name": "ipython",
    "version": 3
   },
   "file_extension": ".py",
   "mimetype": "text/x-python",
   "name": "python",
   "nbconvert_exporter": "python",
   "pygments_lexer": "ipython3",
   "version": "3.10.13"
  }
 },
 "nbformat": 4,
 "nbformat_minor": 4
}
